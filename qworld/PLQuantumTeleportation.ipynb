{
 "cells": [
  {
   "cell_type": "markdown",
   "metadata": {},
   "source": [
    "<a href=\"https://qworld.net\" target=\"_blank\" align=\"left\"><img src=\"../qworld/images/header.jpg\"  align=\"left\"></a>\n",
    "$ \\newcommand{\\bra}[1]{\\langle #1|} $\n",
    "$ \\newcommand{\\ket}[1]{|#1\\rangle} $\n",
    "$ \\newcommand{\\braket}[2]{\\langle #1|#2\\rangle} $\n",
    "$ \\newcommand{\\dot}[2]{ #1 \\cdot #2} $\n",
    "$ \\newcommand{\\biginner}[2]{\\left\\langle #1,#2\\right\\rangle} $\n",
    "$ \\newcommand{\\mymatrix}[2]{\\left( \\begin{array}{#1} #2\\end{array} \\right)} $\n",
    "$ \\newcommand{\\myvector}[1]{\\mymatrix{c}{#1}} $\n",
    "$ \\newcommand{\\myrvector}[1]{\\mymatrix{r}{#1}} $\n",
    "$ \\newcommand{\\mypar}[1]{\\left( #1 \\right)} $\n",
    "$ \\newcommand{\\mybigpar}[1]{ \\Big( #1 \\Big)} $\n",
    "$ \\newcommand{\\sqrttwo}{\\frac{1}{\\sqrt{2}}} $\n",
    "$ \\newcommand{\\dsqrttwo}{\\dfrac{1}{\\sqrt{2}}} $\n",
    "$ \\newcommand{\\onehalf}{\\frac{1}{2}} $\n",
    "$ \\newcommand{\\donehalf}{\\dfrac{1}{2}} $\n",
    "$ \\newcommand{\\hadamard}{ \\mymatrix{rr}{ \\sqrttwo & \\sqrttwo \\\\ \\sqrttwo & -\\sqrttwo }} $\n",
    "$ \\newcommand{\\vzero}{\\myvector{1\\\\0}} $\n",
    "$ \\newcommand{\\vone}{\\myvector{0\\\\1}} $\n",
    "$ \\newcommand{\\stateplus}{\\myvector{ \\sqrttwo \\\\  \\sqrttwo } } $\n",
    "$ \\newcommand{\\stateminus}{ \\myrvector{ \\sqrttwo \\\\ -\\sqrttwo } } $\n",
    "$ \\newcommand{\\myarray}[2]{ \\begin{array}{#1}#2\\end{array}} $\n",
    "$ \\newcommand{\\X}{ \\mymatrix{cc}{0 & 1 \\\\ 1 & 0}  } $\n",
    "$ \\newcommand{\\I}{ \\mymatrix{rr}{1 & 0 \\\\ 0 & 1}  } $\n",
    "$ \\newcommand{\\Z}{ \\mymatrix{rr}{1 & 0 \\\\ 0 & -1}  } $\n",
    "$ \\newcommand{\\Htwo}{ \\mymatrix{rrrr}{ \\frac{1}{2} & \\frac{1}{2} & \\frac{1}{2} & \\frac{1}{2} \\\\ \\frac{1}{2} & -\\frac{1}{2} & \\frac{1}{2} & -\\frac{1}{2} \\\\ \\frac{1}{2} & \\frac{1}{2} & -\\frac{1}{2} & -\\frac{1}{2} \\\\ \\frac{1}{2} & -\\frac{1}{2} & -\\frac{1}{2} & \\frac{1}{2} } } $\n",
    "$ \\newcommand{\\CNOT}{ \\mymatrix{cccc}{1 & 0 & 0 & 0 \\\\ 0 & 1 & 0 & 0 \\\\ 0 & 0 & 0 & 1 \\\\ 0 & 0 & 1 & 0} } $\n",
    "$ \\newcommand{\\norm}[1]{ \\left\\lVert #1 \\right\\rVert } $\n",
    "$ \\newcommand{\\pstate}[1]{ \\lceil \\mspace{-1mu} #1 \\mspace{-1.5mu} \\rfloor } $\n",
    "$ \\newcommand{\\greenbit}[1] {\\mathbf{{\\color{green}#1}}} $\n",
    "$ \\newcommand{\\bluebit}[1] {\\mathbf{{\\color{blue}#1}}} $\n",
    "$ \\newcommand{\\redbit}[1] {\\mathbf{{\\color{red}#1}}} $\n",
    "$ \\newcommand{\\brownbit}[1] {\\mathbf{{\\color{brown}#1}}} $\n",
    "$ \\newcommand{\\blackbit}[1] {\\mathbf{{\\color{black}#1}}} $"
   ]
  },
  {
   "cell_type": "markdown",
   "metadata": {},
   "source": [
    "<font style=\"font-size:28px;\" align=\"left\"><b> <font color=\"blue\"> Solutions for </font>Quantum Teleportation </b></font>\n",
    "<br>\n",
    "_prepared by Abuzer Yakaryilmaz_\n",
    "<br><br>"
   ]
  },
  {
   "cell_type": "markdown",
   "metadata": {},
   "source": [
    "<a id=\"task1\"></a>\n",
    "<h3> Task 1 </h3>\n",
    "\n",
    "Calculate the new quantum state after this CNOT operator."
   ]
  },
  {
   "cell_type": "code",
   "execution_count": null,
   "metadata": {},
   "outputs": [],
   "source": []
  },
  {
   "cell_type": "markdown",
   "metadata": {},
   "source": [
    "<h3>Solution</h3>"
   ]
  },
  {
   "cell_type": "markdown",
   "metadata": {},
   "source": [
    "The state before CNOT is $ \\sqrttwo \\big( a\\ket{000} + a \\ket{011} + b\\ket{100} + b \\ket{111} \\big) $."
   ]
  },
  {
   "cell_type": "markdown",
   "metadata": {},
   "source": [
    "CNOT($q[2]$,$q[1]$) is applied.\n",
    "\n",
    "If the value of the left most qubit is 1, then the value of the middle qubit is flipped.\n",
    "\n",
    "Thus, the new quantum state after this CNOT is\n",
    "\n",
    "$$ \\sqrttwo \\big( a\\ket{000} + a \\ket{011} + b\\ket{110} + b \\ket{101} \\big). $$"
   ]
  },
  {
   "cell_type": "markdown",
   "metadata": {},
   "source": [
    "<a id=\"task2\"></a>\n",
    "<h3> Task 2 </h3>\n",
    "\n",
    "Calculate the new quantum state after this Hadamard operator.\n",
    "\n",
    "Verify that the resulting quantum state can be written as follows:\n",
    "\n",
    "$$  \n",
    "    \\frac{1}{2} \\ket{00} \\big( a\\ket{0}+b\\ket{1} \\big) +\n",
    "    \\frac{1}{2} \\ket{01} \\big( a\\ket{1}+b\\ket{0} \\big) +\n",
    "    \\frac{1}{2} \\ket{10} \\big( a\\ket{0}-b\\ket{1} \\big) +\n",
    "    \\frac{1}{2} \\ket{11} \\big( a\\ket{1}-b\\ket{0} \\big) .\n",
    "$$"
   ]
  },
  {
   "cell_type": "markdown",
   "metadata": {},
   "source": [
    "<h3>Solution</h3>"
   ]
  },
  {
   "cell_type": "markdown",
   "metadata": {},
   "source": [
    "The state before Hadamard is $ \\sqrttwo \\big( a\\ket{000} + a \\ket{011} + b\\ket{110} + b \\ket{101} \\big). $\n",
    "\n",
    "The effect of Hadamard to the left most qubit is given below:\n",
    "\n",
    "$ H \\ket{0yz} \\rightarrow \\sqrttwo \\ket{0yz} + \\sqrttwo \\ket{1yz} $\n",
    "\n",
    "$ H \\ket{1yz} \\rightarrow \\sqrttwo \\ket{0yz} - \\sqrttwo \\ket{1yz} $\n",
    "\n",
    "For each triple $ \\ket{xyz} $ in the quantum state, we apply this transformation:"
   ]
  },
  {
   "cell_type": "markdown",
   "metadata": {},
   "source": [
    "$ \n",
    "    \\frac{1}{2} \\big( a\\ket{000} + a\\ket{100} \\big) + \n",
    "    \\frac{1}{2} \\big( a\\ket{011} + a\\ket{111} \\big) + \n",
    "    \\frac{1}{2} \\big( b\\ket{010} - b\\ket{110} \\big) + \n",
    "    \\frac{1}{2} \\big( b\\ket{001} - b\\ket{101} \\big) .\n",
    "$"
   ]
  },
  {
   "cell_type": "markdown",
   "metadata": {},
   "source": [
    "We can rearrange the summation so that we can separate Asja's qubits from the Balvis' qubit:\n",
    "\n",
    "$ \n",
    "    \\frac{1}{2} \\big( a\\ket{000}+b\\ket{001} \\big) +  \n",
    "    \\frac{1}{2} \\big( a\\ket{011}+b\\ket{010} \\big) +  \n",
    "    \\frac{1}{2} \\big( a\\ket{100} - b\\ket{101} \\big) + \n",
    "    \\frac{1}{2} \\big( a\\ket{111}- b\\ket{110} \\big)  $."
   ]
  },
  {
   "cell_type": "markdown",
   "metadata": {},
   "source": [
    "This is equivalent to\n",
    "\n",
    "$$  \n",
    "    \\frac{1}{2} \\ket{00} \\big( a\\ket{0}+b\\ket{1} \\big) +\n",
    "    \\frac{1}{2} \\ket{01} \\big( a\\ket{1}+b\\ket{0} \\big) +\n",
    "    \\frac{1}{2} \\ket{10} \\big( a\\ket{0}-b\\ket{1} \\big) +\n",
    "    \\frac{1}{2} \\ket{11} \\big( a\\ket{1}-b\\ket{0} \\big) .\n",
    "$$"
   ]
  },
  {
   "cell_type": "markdown",
   "metadata": {},
   "source": [
    "<a id=\"task3\"></a>\n",
    "<h3> Task 3 </h3>\n",
    "\n",
    "Asja sends the measurement outcomes to Balvis by using two classical bits: $ x $ and $ y $. \n",
    "\n",
    "For each $ (x,y) $ pair, determine the quantum operator(s) that Balvis can apply to obtain $ \\ket{v} = a\\ket{0}+b\\ket{1} $ exactly."
   ]
  },
  {
   "cell_type": "markdown",
   "metadata": {},
   "source": [
    "<h3>Solution</h3>"
   ]
  },
  {
   "cell_type": "markdown",
   "metadata": {},
   "source": [
    "<b>Measurement outcome \"00\":</b> The state of Balvis' qubit is $ a\\ket{0}+b\\ket{1} $. \n",
    "\n",
    "Balvis does not need to apply any extra operation.\n",
    "\n",
    "<b>Measurement outcome \"01\":</b> The state of Balvis' qubit is $ a\\ket{1}+b\\ket{0} $. \n",
    "\n",
    "If Balvis applies <u>NOT operator</u>, then the state becomes: $ a\\ket{0}+b\\ket{1} $.\n",
    "\n",
    "<b>Measurement outcome \"10\":</b> The state of Balvis' qubit is $ a\\ket{0}-b\\ket{1} $. \n",
    "\n",
    "If Balvis applies <u>Z operator</u>, then the state becomes: $ a\\ket{0}+b\\ket{1} $.\n",
    "\n",
    "<b>Measurement outcome \"11\":</b> The state of Balvis' qubit is $ a\\ket{1}-b\\ket{0} $. \n",
    "\n",
    "If Balvis applies <u>NOT operator</u> and <u>Z operator</u>, then the state becomes: $ a\\ket{0}+b\\ket{1} $."
   ]
  },
  {
   "cell_type": "markdown",
   "metadata": {},
   "source": [
    "<a id=\"task4\"></a>\n",
    "<h3> Task 4 </h3>\n",
    "\n",
    "Create a quantum circuit with three qubits as described at the beginning of this notebook and three classical bits.\n",
    "\n",
    "Implement the protocol given above until Asja makes the measurements (included).\n",
    "- The state of $q[2]$ can be set by the rotation with a randomly picked angle.\n",
    "- Remark that Balvis does not make the measurement.\n",
    "\n",
    "At this point, read the state vector of the circuit by using \"statevector_simulator\". \n",
    "\n",
    "_When a circuit having measurement is simulated by \"statevector_simulator\", the simulator picks one of the outcomes, and so we see one of the states after the measurement._\n",
    "\n",
    "Verify that the state of Balvis' qubit is in one of these: $ \\ket{v_{00}}$, $ \\ket{v_{01}}$, $ \\ket{v_{10}}$, and $ \\ket{v_{11}}$.\n",
    "\n",
    "Guess the measurement outcome obtained by \"statevector_simulator\"."
   ]
  },
  {
   "cell_type": "markdown",
   "metadata": {},
   "source": [
    "<h3>Solution</h3>"
   ]
  },
  {
   "cell_type": "code",
   "execution_count": 2,
   "metadata": {},
   "outputs": [
    {
     "name": "stdout",
     "output_type": "stream",
     "text": [
      "the picked angle is 342.0 degrees and 5.969026041820607 radians\n",
      "a= 0.951 b= -0.309\n",
      "a*a= 0.905 b*b= 0.095\n"
     ]
    },
    {
     "data": {
      "image/png": "[encoded data removed]",
      "text/plain": [
       "<Figure size 538.33x367.889 with 1 Axes>"
      ]
     },
     "metadata": {},
     "output_type": "display_data"
    },
    {
     "name": "stdout",
     "output_type": "stream",
     "text": [
      "the state vector is\n",
      "0.0\n",
      "-0.0\n",
      "-0.0\n",
      "0.0\n",
      "0.9510565162951535\n",
      "0.3090169943749477\n",
      "0.0\n",
      "0.0\n",
      "\n",
      "the classical outcome is 10\n",
      "\n",
      "the new quantum state is |10>(0.951|0>+0.309|1>)\n",
      "the new quantum state is |10>(+a|0>-b|1>)\n"
     ]
    }
   ],
   "source": [
    "from qiskit import QuantumRegister, ClassicalRegister, QuantumCircuit\n",
    "from qiskit_aer import StatevectorSimulator\n",
    "from math import pi, cos, sin\n",
    "from random import randrange\n",
    "\n",
    "# quantum circuit with three qubits and three bits\n",
    "q =  QuantumRegister(3,\"q\") \n",
    "c = ClassicalRegister(3,\"c\") \n",
    "qc = QuantumCircuit(q,c)\n",
    "\n",
    "# rotate the first qubit by random angle\n",
    "r = randrange(100)\n",
    "theta = 2*pi*(r/100) # radians\n",
    "print(\"the picked angle is\",r*3.6,\"degrees and\",theta,\"radians\")\n",
    "a = cos(theta)\n",
    "b = sin(theta)\n",
    "print(\"a=\",round(a,3),\"b=\",round(b,3))\n",
    "print(\"a*a=\",round(a**2,3),\"b*b=\",round(b**2,3))\n",
    "qc.ry(2*theta,q[2])\n",
    "\n",
    "# creating an entanglement between q[1] and q[0]\n",
    "qc.h(q[1])\n",
    "qc.cx(q[1],q[0])\n",
    "\n",
    "# CNOT operator by Asja on her qubits where q[2] is the control qubit \n",
    "qc.cx(q[2],q[1])\n",
    "\n",
    "# Hadamard operator by Asja on q[2]\n",
    "qc.h(q[2])\n",
    "\n",
    "# the measurement done by Asja\n",
    "qc.measure(q[2],c[2])\n",
    "qc.measure(q[1],c[1])\n",
    "\n",
    "# draw thw circuit\n",
    "display(qc.draw(output='mpl',reverse_bits=True))\n",
    "\n",
    "# read the state vector\n",
    "job = StatevectorSimulator().run(qc,optimization_level=0,shots=1)\n",
    "current_quantum_state=job.result().get_statevector(qc).data\n",
    "print(\"the state vector is\")\n",
    "for i in range(len(current_quantum_state)):\n",
    "    print(current_quantum_state[i].real)\n",
    "print()\n",
    "\n",
    "classical_outcomes = ['00','01','10','11']\n",
    "\n",
    "for i in range(4):\n",
    "    if (current_quantum_state[2*i].real != 0) or (current_quantum_state[2*i+1].real != 0):\n",
    "        print(\"the classical outcome is\",classical_outcomes[i])\n",
    "        classical_outcome = classical_outcomes[i]\n",
    "        balvis_state = [ current_quantum_state[2*i].real,current_quantum_state[2*i+1].real ]\n",
    "print()\n",
    "        \n",
    "readable_quantum_state = \"|\"+classical_outcome+\">\"\n",
    "readable_quantum_state += \"(\"+str(round(balvis_state[0],3))+\"|0>+\"+str(round(balvis_state[1],3))+\"|1>)\"\n",
    "print(\"the new quantum state is\",readable_quantum_state)\n",
    "\n",
    "\n",
    "all_states = ['000','001','010','011','100','101','110','111']\n",
    "\n",
    "        \n",
    "balvis_state_str = \"|\"+classical_outcome+\">(\"\n",
    "for i in range(len(current_quantum_state)):\n",
    "    if abs(current_quantum_state[i].real-a)<0.000001: \n",
    "        balvis_state_str += \"+a|\"+ all_states[i][2]+\">\"\n",
    "    elif abs(current_quantum_state[i].real+a)<0.000001:\n",
    "        balvis_state_str += \"-a|\"+ all_states[i][2]+\">\"\n",
    "    elif abs(current_quantum_state[i].real-b)<0.000001: \n",
    "        balvis_state_str += \"+b|\"+ all_states[i][2]+\">\"\n",
    "    elif abs(current_quantum_state[i].real+b)<0.000001: \n",
    "        balvis_state_str += \"-b|\"+ all_states[i][2]+\">\"\n",
    "balvis_state_str += \")\"        \n",
    "print(\"the new quantum state is\",balvis_state_str)"
   ]
  },
  {
   "cell_type": "code",
   "execution_count": 6,
   "metadata": {},
   "outputs": [
    {
     "name": "stdout",
     "output_type": "stream",
     "text": [
      "the picked angle is 32.4 degrees and 0.5654866776461628 radians\n",
      "a= 0.844 b= 0.536\n",
      "a*a= 0.713 b*b= 0.287\n"
     ]
    },
    {
     "data": {
      "image/png": "[encoded data removed]",
      "text/plain": [
       "<Figure size 700x400 with 1 Axes>"
      ]
     },
     "metadata": {},
     "output_type": "display_data"
    },
    {
     "name": "stdout",
     "output_type": "stream",
     "text": [
      "the classical outcome is 10\n",
      "\n",
      "the new quantum state is |10>(0.844|0>+-0.536|1>)\n",
      "the new quantum state is |10>(+a|0>+b|1>)\n"
     ]
    }
   ],
   "source": [
    "import pennylane as qml\n",
    "import numpy as np\n",
    "import matplotlib.pyplot as plt\n",
    "\n",
    "# Create a 2-qubit quantum device\n",
    "dev = qml.device(\"default.qubit\", wires=3)\n",
    "\n",
    "# Define the quantum circuit with classical inputs a and b\n",
    "@qml.qnode(dev)\n",
    "def quantum_circuit():\n",
    "\n",
    "    r = randrange(100)\n",
    "    theta = 2*pi*(r/100) # radians\n",
    "    print(\"the picked angle is\",r*3.6,\"degrees and\",theta,\"radians\")\n",
    "    a = cos(theta)\n",
    "    b = sin(theta)\n",
    "    print(\"a=\",round(a,3),\"b=\",round(b,3))\n",
    "    print(\"a*a=\",round(a**2,3),\"b*b=\",round(b**2,3))\n",
    "    qml.RY(2*theta,wires=0)\n",
    "    qml.Hadamard(wires=1)\n",
    "    qml.CNOT(wires=[1,2])\n",
    "    qml.CNOT([0,1])\n",
    "    qml.Hadamard(wires=0)\n",
    "    \n",
    "    return qml.state()\n",
    "\n",
    "\n",
    "# Draw the quantum circuit\n",
    "fig, ax = qml.draw_mpl(quantum_circuit, style=\"black_white\")()\n",
    "plt.show()\n",
    "\n",
    "\n",
    "classical_outcomes = ['00','01','10','11']\n",
    "\n",
    "for i in range(4):\n",
    "    if (current_quantum_state[2*i].real != 0) or (current_quantum_state[2*i+1].real != 0):\n",
    "        print(\"the classical outcome is\",classical_outcomes[i])\n",
    "        classical_outcome = classical_outcomes[i]\n",
    "        balvis_state = [ current_quantum_state[2*i].real,current_quantum_state[2*i+1].real ]\n",
    "print()\n",
    "        \n",
    "readable_quantum_state = \"|\"+classical_outcome+\">\"\n",
    "readable_quantum_state += \"(\"+str(round(balvis_state[0],3))+\"|0>+\"+str(round(balvis_state[1],3))+\"|1>)\"\n",
    "print(\"the new quantum state is\",readable_quantum_state)\n",
    "\n",
    "all_states = ['000','001','010','011','100','101','110','111']\n",
    "\n",
    "balvis_state_str = \"|\"+classical_outcome+\">(\"\n",
    "for i in range(len(current_quantum_state)):\n",
    "    if abs(current_quantum_state[i].real-a)<0.000001: \n",
    "        balvis_state_str += \"+a|\"+ all_states[i][2]+\">\"\n",
    "    elif abs(current_quantum_state[i].real+a)<0.000001:\n",
    "        balvis_state_str += \"-a|\"+ all_states[i][2]+\">\"\n",
    "    elif abs(current_quantum_state[i].real-b)<0.000001: \n",
    "        balvis_state_str += \"+b|\"+ all_states[i][2]+\">\"\n",
    "    elif abs(current_quantum_state[i].real+b)<0.000001: \n",
    "        balvis_state_str += \"-b|\"+ all_states[i][2]+\">\"\n",
    "balvis_state_str += \")\"        \n",
    "print(\"the new quantum state is\",balvis_state_str)\n"
   ]
  },
  {
   "cell_type": "markdown",
   "metadata": {},
   "source": [
    "<a id=\"task5\"></a>\n",
    "<h3> Task 5 </h3>\n",
    "\n",
    "Implement the protocol above by including the post-processing part done by Balvis, i.e., the measurement results by Asja are sent to Balvis and then he may apply $ X $ or $ Z $ gates depending on the measurement results.\n",
    "\n",
    "We use the classically controlled quantum operators. \n",
    "\n",
    "Since we do not make measurement on $ q[0] $, we define only 2 classical bits, each of which can also be defined separated.\n",
    "\n",
    "    q = QuantumRegister(3)\n",
    "    c2 = ClassicalRegister(1,'c2')\n",
    "    c1 = ClassicalRegister(1,'c1')\n",
    "    qc = QuantumCircuit(q,c1,c2)\n",
    "    ...\n",
    "    qc.measure(q[1],c1)\n",
    "    ...\n",
    "    qc.x(q[0]).c_if(c1,1) # x-gate is applied to q[0] if the classical bit c1 is equal to 1\n",
    "\n",
    "Read the state vector and verify that Balvis' state is $ \\myvector{a \\\\ b} $ after the post-processing."
   ]
  },
  {
   "cell_type": "markdown",
   "metadata": {},
   "source": [
    "<h3>Solution</h3>"
   ]
  },
  {
   "cell_type": "code",
   "execution_count": 9,
   "metadata": {},
   "outputs": [
    {
     "name": "stdout",
     "output_type": "stream",
     "text": [
      "the picked angle is 237.6 degrees and 4.1469023027385274 radians\n",
      "a= -0.5358 b= -0.8443\n"
     ]
    },
    {
     "data": {
      "image/png": "[encoded data removed]",
      "text/plain": [
       "<Figure size 956.385x451.5 with 1 Axes>"
      ]
     },
     "metadata": {},
     "output_type": "display_data"
    },
    {
     "name": "stdout",
     "output_type": "stream",
     "text": [
      "the state vector is\n",
      "-0.0\n",
      "-0.0\n",
      "-0.5358\n",
      "-0.8443\n",
      "0.0\n",
      "-0.0\n",
      "-0.0\n",
      "0.0\n",
      "\n",
      "the classical outcome is 01\n"
     ]
    }
   ],
   "source": [
    "from qiskit import QuantumRegister, ClassicalRegister, QuantumCircuit\n",
    "from qiskit_aer import StatevectorSimulator\n",
    "from math import pi, cos, sin\n",
    "from random import randrange\n",
    "\n",
    "# quantum circuit with three qubits and two bits\n",
    "q =  QuantumRegister(3,\"q\") \n",
    "c1 = ClassicalRegister(1,\"c1\") \n",
    "c2 = ClassicalRegister(1,\"c2\") \n",
    "qc = QuantumCircuit(q,c1,c2)\n",
    "\n",
    "# rotate the first qubit by random angle\n",
    "r = randrange(100)\n",
    "theta = 2*pi*(r/100) # radians\n",
    "print(\"the picked angle is\",r*3.6,\"degrees and\",theta,\"radians\")\n",
    "a = cos(theta)\n",
    "b = sin(theta)\n",
    "print(\"a=\",round(a,4),\"b=\",round(b,4))\n",
    "qc.ry(2*theta,q[2])\n",
    "\n",
    "# creating an entanglement between q[1] and q[0]\n",
    "qc.h(q[1])\n",
    "qc.cx(q[1],q[0])\n",
    "\n",
    "# CNOT operator by Asja on her qubits where q[2] is the control qubit \n",
    "qc.cx(q[2],q[1])\n",
    "\n",
    "# Hadamard operator by Asja on q[2]\n",
    "qc.h(q[2])\n",
    "\n",
    "qc.barrier()\n",
    "\n",
    "# the measurement done by Asja\n",
    "qc.measure(q[2],c2)\n",
    "qc.measure(q[1],c1)\n",
    "\n",
    "qc.barrier()\n",
    "\n",
    "# post-processing done by Balvis\n",
    "qc.x(q[0]).c_if(c1,1)\n",
    "qc.z(q[0]).c_if(c2,1)\n",
    "\n",
    "# draw the circuit\n",
    "display(qc.draw(output='mpl',reverse_bits=True))\n",
    "\n",
    "# read the state vector\n",
    "job = StatevectorSimulator().run(qc,optimization_level=0,shots=1)\n",
    "current_quantum_state=job.result().get_statevector(qc).data\n",
    "print(\"the state vector is\")\n",
    "for i in range(len(current_quantum_state)):\n",
    "    print(round(current_quantum_state[i].real,4))\n",
    "print()\n",
    "\n",
    "classical_outcomes = ['00','01','10','11']\n",
    "\n",
    "for i in range(4):\n",
    "    if (current_quantum_state[2*i].real != 0) or (current_quantum_state[2*i+1].real != 0):\n",
    "        print(\"the classical outcome is\",classical_outcomes[i])"
   ]
  },
  {
   "cell_type": "code",
   "execution_count": null,
   "metadata": {},
   "outputs": [
    {
     "name": "stdout",
     "output_type": "stream",
     "text": [
      "the picked angle is 234.0 degrees and 4.084070449666731 radians\n",
      "a= -0.588 b= -0.809\n"
     ]
    },
    {
     "data": {
      "image/png": "[encoded data removed]",
      "text/plain": [
       "<Figure size 800x400 with 1 Axes>"
      ]
     },
     "metadata": {},
     "output_type": "display_data"
    },
    {
     "name": "stdout",
     "output_type": "stream",
     "text": [
      "the classical outcome is 01\n",
      "\n"
     ]
    }
   ],
   "source": [
    "import pennylane as qml\n",
    "import numpy as np\n",
    "from math import pi, cos, sin\n",
    "from random import randrange\n",
    "\n",
    "# Create a 3-qubit quantum device\n",
    "dev = qml.device(\"default.qubit\", wires=3)\n",
    "\n",
    "# Define the quantum circuit with mid-circuit measurements\n",
    "@qml.qnode(dev)\n",
    "def teleportation_circuit():\n",
    "    # Rotate the third qubit by random angle (wire 2 in PennyLane)\n",
    "    r = randrange(100)\n",
    "    theta = 2 * pi * (r / 100)\n",
    "    print(f\"Picked angle: {r*3.6:.1f}° ({theta:.4f} rad)\")\n",
    "    print(f\"a = {cos(theta):.4f}, b = {sin(theta):.4f}\")\n",
    "    qml.RY(2 * theta, wires=2)\n",
    "\n",
    "    # Create entanglement between qubits 1 and 0 (wires 1 and 0 in PennyLane)\n",
    "    qml.Hadamard(wires=1)\n",
    "    qml.CNOT(wires=[1, 0])\n",
    "\n",
    "    # CNOT with qubit 2 as control and qubit 1 as target\n",
    "    qml.CNOT(wires=[2, 1])\n",
    "\n",
    "    # Hadamard on qubit 2\n",
    "    qml.Hadamard(wires=2)\n",
    "\n",
    "    # Barrier for visual separation\n",
    "    qml.Barrier(wires=[0, 1, 2])\n",
    "\n",
    "    # Measurements - measure qubit 2 (c2) and qubit 1 (c1)\n",
    "    m2 = qml.measure(2)  # Measures wire 2 (like q[2] in Qiskit)\n",
    "    m1 = qml.measure(1)  # Measures wire 1 (like q[1] in Qiskit)\n",
    "\n",
    "    # Barrier for visual separation\n",
    "    qml.Barrier(wires=[0, 1, 2])\n",
    "\n",
    "    # Conditional operations based on measurements\n",
    "    qml.cond(m1, qml.PauliX)(0)  # Apply X to qubit 0 if m1 == 1\n",
    "    qml.cond(m2, qml.PauliZ)(0)  # Apply Z to qubit 0 if m2 == 1\n",
    "\n",
    "    return qml.state()\n",
    "\n",
    "# Draw the quantum circuit\n",
    "print(\"\\nQuantum Circuit Diagram:\")\n",
    "fig, ax = qml.draw_mpl(teleportation_circuit, style=\"pennylane\", show_all_wires=True)()\n",
    "plt.show()\n",
    "\n",
    "# Execute the circuit and get the statevector\n",
    "statevector = teleportation_circuit()\n",
    "\n",
    "# Print the state vector\n",
    "print(\"\\nFinal State Vector:\")\n",
    "for i, amp in enumerate(statevector):\n",
    "    print(f\"|{i:03b}>: {amp.real:.4f}{' + ' + str(amp.imag:.4f) + 'j' if amp.imag != 0 else ''}\")\n",
    "\n",
    "# Identify classical outcomes\n",
    "print(\"\\nClassical Measurement Outcomes:\")\n",
    "for i in range(4):\n",
    "    # Check both the measured state and its corresponding teleported state\n",
    "    idx1 = 4*i\n",
    "    idx2 = 4*i + 1\n",
    "    \n",
    "    if abs(statevector[idx1]) > 1e-5 or abs(statevector[idx2]) > 1e-5:\n",
    "        # Convert index to binary representation (q2 q1 q0)\n",
    "        bin_rep = f\"{(i & 1)} {((i >> 1) & 1)}\"  # q1 and q2 measurements\n",
    "        print(f\"Classical outcome (c1,c2): {bin_rep}\")\n",
    "        print(f\"  Teleported state on q0: [{statevector[idx1]:.4f}, {statevector[idx2]:.4f}]\")\n",
    "\n"
   ]
  }
 ],
 "metadata": {
  "kernelspec": {
   "display_name": "Code",
   "language": "python",
   "name": "python3"
  },
  "language_info": {
   "codemirror_mode": {
    "name": "ipython",
    "version": 3
   },
   "file_extension": ".py",
   "mimetype": "text/x-python",
   "name": "python",
   "nbconvert_exporter": "python",
   "pygments_lexer": "ipython3",
   "version": "3.12.7"
  }
 },
 "nbformat": 4,
 "nbformat_minor": 2
}
